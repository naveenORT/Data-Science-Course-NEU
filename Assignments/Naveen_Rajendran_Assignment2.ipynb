{
 "cells": [
  {
   "cell_type": "code",
   "execution_count": 1,
   "id": "435afd0b",
   "metadata": {
    "scrolled": true
   },
   "outputs": [
    {
     "name": "stdout",
     "output_type": "stream",
     "text": [
      "   INT_NUM\n",
      "a       20\n",
      "b       27\n",
      "c       38\n",
      "d        3\n",
      "e       68\n"
     ]
    }
   ],
   "source": [
    "import string\n",
    "import pandas as pd\n",
    "import random\n",
    "\n",
    "alphabet_string = string.ascii_lowercase\n",
    "alphabet_list = list(alphabet_string)\n",
    "randomint = random.sample(range(1, 100), 26)\n",
    "data_frame = pd.DataFrame(randomint,index=alphabet_list, columns=[\"INT_NUM\"])\n",
    "print(data_frame.head())"
   ]
  },
  {
   "cell_type": "code",
   "execution_count": 2,
   "id": "509f981e",
   "metadata": {},
   "outputs": [
    {
     "name": "stdout",
     "output_type": "stream",
     "text": [
      "   col 1  col 2  col 3\n",
      "0      1      4      7\n",
      "1      2      5      5\n",
      "2      3      6      8\n",
      "3      4      9     12\n",
      "4      7      5      1\n",
      "5     11      0     11\n",
      "\n",
      " Series Data Using iloc\n",
      "0     1\n",
      "1     2\n",
      "2     3\n",
      "3     4\n",
      "4     7\n",
      "5    11\n",
      "Name: col 1, dtype: int64\n"
     ]
    }
   ],
   "source": [
    "import pandas as pd\n",
    "import random\n",
    "\n",
    "NUM_INDEX = list(range(0,6))\n",
    "\n",
    "list1 = [1,2,3,4,7,11]\n",
    "list2 = [4,5,6,9,5,0]\n",
    "list3 = [7,5,8,12,1,11]\n",
    "NUM_COL = pd.DataFrame({'col 1': list1,'col 2': list2,'col 3': list3})\n",
    "data_frame = pd.DataFrame(NUM_COL, index=NUM_INDEX)\n",
    "print(data_frame)\n",
    "print(\"\\n Series Data Using iloc\")\n",
    "print(data_frame.iloc[:,0])\n"
   ]
  },
  {
   "cell_type": "code",
   "execution_count": 3,
   "id": "2417a11d",
   "metadata": {},
   "outputs": [
    {
     "name": "stdout",
     "output_type": "stream",
     "text": [
      "   Col 1  Col 2  Col 3\n",
      "0      1      4      7\n",
      "1      2      5      5\n",
      "2      3      6      8\n",
      "3      4      9     12\n",
      "4      7      5      1\n",
      "5     11      0     11\n",
      "\n",
      " Q 3.1) All Columns Except Col 3\n",
      "   Col 1  Col 2\n",
      "0      1      4\n",
      "1      2      5\n",
      "2      3      6\n",
      "3      4      9\n",
      "4      7      5\n",
      "5     11      0\n",
      "\n",
      " Q 3.2) Remove First 3 three rows\n",
      "   Col 1  Col 2  Col 3\n",
      "3      4      9     12\n",
      "4      7      5      1\n",
      "5     11      0     11\n",
      "\n",
      " Q 3.3) Remove Last 3 three rows\n",
      "   Col 1  Col 2  Col 3\n",
      "0      1      4      7\n",
      "1      2      5      5\n",
      "2      3      6      8\n"
     ]
    }
   ],
   "source": [
    "import pandas as pd\n",
    "import random\n",
    "\n",
    "NUM_INDEX = list(range(0,6))\n",
    "\n",
    "lst1 = [1,2,3,4,7,11]\n",
    "lst2 = [4,5,6,9,5,0]\n",
    "lst3 = [7,5,8,12,1,11]\n",
    "NUM_COL = pd.DataFrame({'Col 1': lst1,'Col 2': lst2,'Col 3': lst3})\n",
    "data_frame = pd.DataFrame(NUM_COL, index=NUM_INDEX)\n",
    "print(data_frame)\n",
    "\n",
    "print(\"\\n Q 3.1) All Columns Except Col 3\")\n",
    "print(data_frame.iloc[:,0:2])\n",
    "\n",
    "print(\"\\n Q 3.2) Remove First 3 three rows\")\n",
    "print(data_frame.iloc[3:,:])\n",
    "\n",
    "print(\"\\n Q 3.3) Remove Last 3 three rows\")\n",
    "print(data_frame.iloc[0:3,:])\n"
   ]
  },
  {
   "cell_type": "code",
   "execution_count": 4,
   "id": "fbd63d38",
   "metadata": {},
   "outputs": [
    {
     "name": "stdout",
     "output_type": "stream",
     "text": [
      "\n",
      " Q 4.1) Series 1 item not in series 2 \n",
      "0    1\n",
      "1    2\n",
      "2    3\n",
      "dtype: int64\n",
      "\n",
      " Q 4.2) Series 1 - Series 2 Not Common Items\n",
      "0     1\n",
      "2     3\n",
      "4     5\n",
      "2     6\n",
      "3     8\n",
      "4    10\n",
      "dtype: int64\n"
     ]
    }
   ],
   "source": [
    "import pandas as pd\n",
    "\n",
    "ser1 = pd.Series([1, 2, 3, 4, 5])\n",
    "ser2 = pd.Series([4, 5, 6, 7, 8])\n",
    "\n",
    "print(\"\\n Q 4.1) Series 1 item not in series 2 \")\n",
    "op1 = ser1[~ser1.isin(ser2)]\n",
    "print(op1)\n",
    "\n",
    "print(\"\\n Q 4.2) Series 1 - Series 2 Not Common Items\")\n",
    "\n",
    "ser1 = pd.Series([1, 2, 3, 4, 5])\n",
    "ser2 = pd.Series([2, 4, 6, 8, 10])\n",
    "sr1_sr2 = ser1[~ser1.isin(ser2)]\n",
    "sr2_sr1 = ser2[~ser2.isin(ser1)]\n",
    "op2 = sr1_sr2.append(sr2_sr1)\n",
    "\n",
    "print(op2)"
   ]
  },
  {
   "cell_type": "code",
   "execution_count": 5,
   "id": "76653b68",
   "metadata": {},
   "outputs": [
    {
     "name": "stdout",
     "output_type": "stream",
     "text": [
      "\n",
      " 1) Euclidean distance using formula 18.16590212458495\n",
      "\n",
      " 2) Euclidean distance using function: 18.16590212458495\n"
     ]
    }
   ],
   "source": [
    "import pandas as pd\n",
    "import numpy as np\n",
    "\n",
    "\n",
    "x = pd.Series([1, 2, 3, 4, 5, 6, 7, 8, 9, 10])\n",
    "y = pd.Series([8, 9, 10, 11, 12, 7, 6, 5, 4, 3])\n",
    "\n",
    "p1 = np.sum([(a * a) for a in x])\n",
    "p2 = np.sum([(b * b) for b in y])\n",
    "p3 = -1 * np.sum([(2 * a*b) for (a, b) in zip(x, y)])\n",
    "\n",
    "formula_dist = np.sqrt(np.sum(p1 + p2 + p3))\n",
    "\n",
    "func_dist = dist = (np.linalg.norm(x-y))\n",
    "\n",
    "print(\"\\n 1) Euclidean distance using formula\", formula_dist )\n",
    "print(\"\\n 2) Euclidean distance using function:\", dist)\n"
   ]
  },
  {
   "cell_type": "code",
   "execution_count": 6,
   "id": "fd83af5c",
   "metadata": {
    "scrolled": true
   },
   "outputs": [
    {
     "data": {
      "text/html": [
       "<div>\n",
       "<style scoped>\n",
       "    .dataframe tbody tr th:only-of-type {\n",
       "        vertical-align: middle;\n",
       "    }\n",
       "\n",
       "    .dataframe tbody tr th {\n",
       "        vertical-align: top;\n",
       "    }\n",
       "\n",
       "    .dataframe thead th {\n",
       "        text-align: right;\n",
       "    }\n",
       "</style>\n",
       "<table border=\"1\" class=\"dataframe\">\n",
       "  <thead>\n",
       "    <tr style=\"text-align: right;\">\n",
       "      <th></th>\n",
       "      <th>p</th>\n",
       "      <th>q</th>\n",
       "      <th>r</th>\n",
       "      <th>s</th>\n",
       "      <th>nearest_row</th>\n",
       "      <th>dist</th>\n",
       "    </tr>\n",
       "  </thead>\n",
       "  <tbody>\n",
       "    <tr>\n",
       "      <th>a</th>\n",
       "      <td>52</td>\n",
       "      <td>93</td>\n",
       "      <td>15</td>\n",
       "      <td>72</td>\n",
       "      <td>d</td>\n",
       "      <td>117</td>\n",
       "    </tr>\n",
       "    <tr>\n",
       "      <th>b</th>\n",
       "      <td>61</td>\n",
       "      <td>21</td>\n",
       "      <td>83</td>\n",
       "      <td>87</td>\n",
       "      <td>d</td>\n",
       "      <td>107</td>\n",
       "    </tr>\n",
       "    <tr>\n",
       "      <th>c</th>\n",
       "      <td>75</td>\n",
       "      <td>75</td>\n",
       "      <td>88</td>\n",
       "      <td>24</td>\n",
       "      <td>d</td>\n",
       "      <td>98</td>\n",
       "    </tr>\n",
       "    <tr>\n",
       "      <th>d</th>\n",
       "      <td>3</td>\n",
       "      <td>22</td>\n",
       "      <td>53</td>\n",
       "      <td>2</td>\n",
       "      <td>g</td>\n",
       "      <td>123</td>\n",
       "    </tr>\n",
       "    <tr>\n",
       "      <th>e</th>\n",
       "      <td>88</td>\n",
       "      <td>30</td>\n",
       "      <td>38</td>\n",
       "      <td>2</td>\n",
       "      <td>a</td>\n",
       "      <td>103</td>\n",
       "    </tr>\n",
       "    <tr>\n",
       "      <th>f</th>\n",
       "      <td>64</td>\n",
       "      <td>60</td>\n",
       "      <td>21</td>\n",
       "      <td>33</td>\n",
       "      <td>b</td>\n",
       "      <td>91</td>\n",
       "    </tr>\n",
       "    <tr>\n",
       "      <th>g</th>\n",
       "      <td>76</td>\n",
       "      <td>58</td>\n",
       "      <td>22</td>\n",
       "      <td>89</td>\n",
       "      <td>d</td>\n",
       "      <td>123</td>\n",
       "    </tr>\n",
       "    <tr>\n",
       "      <th>h</th>\n",
       "      <td>49</td>\n",
       "      <td>91</td>\n",
       "      <td>59</td>\n",
       "      <td>42</td>\n",
       "      <td>d</td>\n",
       "      <td>92</td>\n",
       "    </tr>\n",
       "    <tr>\n",
       "      <th>i</th>\n",
       "      <td>92</td>\n",
       "      <td>60</td>\n",
       "      <td>80</td>\n",
       "      <td>15</td>\n",
       "      <td>a</td>\n",
       "      <td>101</td>\n",
       "    </tr>\n",
       "    <tr>\n",
       "      <th>j</th>\n",
       "      <td>62</td>\n",
       "      <td>62</td>\n",
       "      <td>47</td>\n",
       "      <td>62</td>\n",
       "      <td>d</td>\n",
       "      <td>93</td>\n",
       "    </tr>\n",
       "  </tbody>\n",
       "</table>\n",
       "</div>"
      ],
      "text/plain": [
       "    p   q   r   s nearest_row  dist\n",
       "a  52  93  15  72           d   117\n",
       "b  61  21  83  87           d   107\n",
       "c  75  75  88  24           d    98\n",
       "d   3  22  53   2           g   123\n",
       "e  88  30  38   2           a   103\n",
       "f  64  60  21  33           b    91\n",
       "g  76  58  22  89           d   123\n",
       "h  49  91  59  42           d    92\n",
       "i  92  60  80  15           a   101\n",
       "j  62  62  47  62           d    93"
      ]
     },
     "execution_count": 6,
     "metadata": {},
     "output_type": "execute_result"
    }
   ],
   "source": [
    "import pandas as pd\n",
    "import numpy as np\n",
    "\n",
    "np.random.seed(42)\n",
    "df = pd.DataFrame(np.random.randint(1,100, 40).reshape(10, -1), columns=list('pqrs'), index=list('abcdefghij'))\n",
    "\n",
    "nearest_rows = []\n",
    "dist = []\n",
    "\n",
    "for i, r in df.iterrows():\n",
    "    current = r\n",
    "    rest = df.drop(i)\n",
    "    unique_distances = {}  \n",
    "    \n",
    "    for j, k in rest.iterrows():\n",
    "        unique_distances.update({j: round(np.linalg.norm(current.values - k.values))})\n",
    "    \n",
    "    nearest_rows.append(max(unique_distances, key=unique_distances.get))\n",
    "    dist.append(max(unique_distances.values()))\n",
    "\n",
    "df['nearest_row'] = nearest_rows\n",
    "df['dist'] = dist\n",
    "df"
   ]
  },
  {
   "cell_type": "code",
   "execution_count": 7,
   "id": "a658be2e",
   "metadata": {},
   "outputs": [
    {
     "data": {
      "text/plain": [
       "array([[ 0,  1,  2,  3],\n",
       "       [ 2,  3,  4,  5],\n",
       "       [ 4,  5,  6,  7],\n",
       "       [ 6,  7,  8,  9],\n",
       "       [ 8,  9, 10, 11],\n",
       "       [10, 11, 12, 13]], dtype=int64)"
      ]
     },
     "execution_count": 7,
     "metadata": {},
     "output_type": "execute_result"
    }
   ],
   "source": [
    "import pandas as pd\n",
    "import numpy as np\n",
    "\n",
    "L = pd.Series(range(15))\n",
    "\n",
    "def generate_strides(pandas_series, stride_len=5, window_len=5):\n",
    "    n_strides = ((pandas_series.size-window_len)//stride_len) + 1\n",
    "    return    np.array([pandas_series[s:(s+window_len)] for s in np.arange(0, pandas_series.size, stride_len)[:n_strides]])\n",
    "\n",
    "\n",
    "generate_strides(L, stride_len=2, window_len=4)"
   ]
  },
  {
   "cell_type": "code",
   "execution_count": 8,
   "id": "429daf96",
   "metadata": {
    "scrolled": true
   },
   "outputs": [
    {
     "name": "stdout",
     "output_type": "stream",
     "text": [
      "Exchanging Col A & Col C of Dataframe \n",
      "\n",
      "    c   b   a   d   e\n",
      "0   2   1   0   3   4\n",
      "1   7   6   5   8   9\n",
      "2  12  11  10  13  14\n",
      "3  17  16  15  18  19\n",
      "\n",
      " Switch Column Using Function \n",
      "\n",
      "    c   b   a   d   e\n",
      "0   2   1   0   3   4\n",
      "1   7   6   5   8   9\n",
      "2  12  11  10  13  14\n",
      "3  17  16  15  18  19\n"
     ]
    },
    {
     "data": {
      "text/html": [
       "<div>\n",
       "<style scoped>\n",
       "    .dataframe tbody tr th:only-of-type {\n",
       "        vertical-align: middle;\n",
       "    }\n",
       "\n",
       "    .dataframe tbody tr th {\n",
       "        vertical-align: top;\n",
       "    }\n",
       "\n",
       "    .dataframe thead th {\n",
       "        text-align: right;\n",
       "    }\n",
       "</style>\n",
       "<table border=\"1\" class=\"dataframe\">\n",
       "  <thead>\n",
       "    <tr style=\"text-align: right;\">\n",
       "      <th></th>\n",
       "      <th>e</th>\n",
       "      <th>d</th>\n",
       "      <th>c</th>\n",
       "      <th>b</th>\n",
       "      <th>a</th>\n",
       "    </tr>\n",
       "  </thead>\n",
       "  <tbody>\n",
       "    <tr>\n",
       "      <th>0</th>\n",
       "      <td>4</td>\n",
       "      <td>3</td>\n",
       "      <td>2</td>\n",
       "      <td>1</td>\n",
       "      <td>0</td>\n",
       "    </tr>\n",
       "    <tr>\n",
       "      <th>1</th>\n",
       "      <td>9</td>\n",
       "      <td>8</td>\n",
       "      <td>7</td>\n",
       "      <td>6</td>\n",
       "      <td>5</td>\n",
       "    </tr>\n",
       "    <tr>\n",
       "      <th>2</th>\n",
       "      <td>14</td>\n",
       "      <td>13</td>\n",
       "      <td>12</td>\n",
       "      <td>11</td>\n",
       "      <td>10</td>\n",
       "    </tr>\n",
       "    <tr>\n",
       "      <th>3</th>\n",
       "      <td>19</td>\n",
       "      <td>18</td>\n",
       "      <td>17</td>\n",
       "      <td>16</td>\n",
       "      <td>15</td>\n",
       "    </tr>\n",
       "  </tbody>\n",
       "</table>\n",
       "</div>"
      ],
      "text/plain": [
       "    e   d   c   b   a\n",
       "0   4   3   2   1   0\n",
       "1   9   8   7   6   5\n",
       "2  14  13  12  11  10\n",
       "3  19  18  17  16  15"
      ]
     },
     "execution_count": 8,
     "metadata": {},
     "output_type": "execute_result"
    }
   ],
   "source": [
    "import pandas as pd\n",
    "\n",
    "df = pd.DataFrame(np.arange(20).reshape(-1, 5), columns=list('abcde'))\n",
    "\n",
    "print(\"Exchanging Col A & Col C of Dataframe \\n\")\n",
    "\n",
    "print(df[list('cbade')])\n",
    "\n",
    "\n",
    "def switch_col(df, col1=None, col2=None):\n",
    "    colnames = df.columns.tolist()\n",
    "    i1, i2 = colnames.index(col1), colnames.index(col2)\n",
    "    colnames[i2], colnames[i1] = colnames[i1], colnames[i2]\n",
    "    return df[colnames]\n",
    "\n",
    "df1 = switch_col(df, 'a', 'c')\n",
    "print(\"\\n Switch Column Using Function \\n\")\n",
    "print(df1)\n",
    "\n",
    "\n",
    "df.sort_index(axis=1, ascending=False, inplace=True)\n",
    "df"
   ]
  },
  {
   "cell_type": "code",
   "execution_count": 9,
   "id": "1c80a4a6",
   "metadata": {},
   "outputs": [
    {
     "name": "stdout",
     "output_type": "stream",
     "text": [
      "      crim  zn  indus chas    nox     rm   age     dis rad  tax ptratio  \\\n",
      "0  0.21977   0   6.91    0  0.448  5.602    62  6.0877   3  233    17.9   \n",
      "1   0.0686   0   2.89    0  0.445  7.416  62.5  3.4952   2  276      18   \n",
      "2  2.73397   0  19.58    0  0.871  5.597  94.9  1.5257   5  403    14.7   \n",
      "3   0.0315  95   1.47    0  0.403  6.975  15.3  7.6534   3  402      17   \n",
      "4  0.19073  22   5.86    0  0.431  6.718  17.5  7.8265   7  330    19.1   \n",
      "\n",
      "        b  lstat  medv  \n",
      "0   396.9   16.2  19.4  \n",
      "1   396.9   6.19  33.2  \n",
      "2  351.85  21.45  15.4  \n",
      "3   396.9   4.56  34.9  \n",
      "4  393.74   6.56  26.2  \n"
     ]
    }
   ],
   "source": [
    "import pandas as pd\n",
    "import csv          \n",
    "\n",
    "with open('BostonHousing.csv', 'r') as f:\n",
    "    reader = csv.reader(f)\n",
    "    output = []\n",
    "    for i, row in enumerate(reader):\n",
    "        if i%50 == 0:\n",
    "            output.append(row)\n",
    "\n",
    "df2 = pd.DataFrame(output[1:], columns=output[0])\n",
    "print(df2.head())"
   ]
  },
  {
   "cell_type": "code",
   "execution_count": 10,
   "id": "40e23613",
   "metadata": {},
   "outputs": [
    {
     "name": "stdout",
     "output_type": "stream",
     "text": [
      "        crim  zn  indus chas    nox     rm   age     dis rad  tax ptratio  \\\n",
      "0    0.00632  18   2.31    0  0.538  6.575  65.2    4.09   1  296    15.3   \n",
      "1    0.02731   0   7.07    0  0.469  6.421  78.9  4.9671   2  242    17.8   \n",
      "2    0.02729   0   7.07    0  0.469  7.185  61.1  4.9671   2  242    17.8   \n",
      "3    0.03237   0   2.18    0  0.458  6.998  45.8  6.0622   3  222    18.7   \n",
      "4    0.06905   0   2.18    0  0.458  7.147  54.2  6.0622   3  222    18.7   \n",
      "..       ...  ..    ...  ...    ...    ...   ...     ...  ..  ...     ...   \n",
      "501  0.06263   0  11.93    0  0.573  6.593  69.1  2.4786   1  273      21   \n",
      "502  0.04527   0  11.93    0  0.573   6.12  76.7  2.2875   1  273      21   \n",
      "503  0.06076   0  11.93    0  0.573  6.976    91  2.1675   1  273      21   \n",
      "504  0.10959   0  11.93    0  0.573  6.794  89.3  2.3889   1  273      21   \n",
      "505  0.04741   0  11.93    0  0.573   6.03  80.8   2.505   1  273      21   \n",
      "\n",
      "          b lstat  medv  \n",
      "0     396.9  4.98   Low  \n",
      "1     396.9  9.14   Low  \n",
      "2    392.83  4.03  High  \n",
      "3    394.63  2.94  High  \n",
      "4     396.9  5.33  High  \n",
      "..      ...   ...   ...  \n",
      "501  391.99  9.67   Low  \n",
      "502   396.9  9.08   Low  \n",
      "503   396.9  5.64   Low  \n",
      "504  393.45  6.48   Low  \n",
      "505   396.9  7.88   Low  \n",
      "\n",
      "[506 rows x 14 columns]\n"
     ]
    }
   ],
   "source": [
    "import pandas as pd\n",
    "import csv\n",
    "with open('BostonHousing.csv', 'r') as f:\n",
    "    reader = csv.reader(f)\n",
    "    out = []\n",
    "    for i, row in enumerate(reader):\n",
    "        if i > 0:\n",
    "            row[13] = 'High' if float(row[13]) > 25 else 'Low'\n",
    "        out.append(row)\n",
    "\n",
    "df = pd.DataFrame(out[1:], columns=out[0])\n",
    "print(df)"
   ]
  },
  {
   "cell_type": "code",
   "execution_count": 11,
   "id": "5bb8ee8b",
   "metadata": {},
   "outputs": [
    {
     "data": {
      "text/plain": [
       "2021-01-02    3\n",
       "2021-01-09    7\n",
       "2021-01-16    4\n",
       "2021-01-23    9\n",
       "2021-01-30    3\n",
       "2021-02-06    5\n",
       "2021-02-13    3\n",
       "2021-02-20    7\n",
       "2021-02-27    5\n",
       "2021-03-06    9\n",
       "Freq: W-SAT, dtype: int32"
      ]
     },
     "execution_count": 11,
     "metadata": {},
     "output_type": "execute_result"
    }
   ],
   "source": [
    "import pandas as pd\n",
    "\n",
    "date_series = pd.Series(np.random.randint(1,10,10), pd.date_range('2021-01-01', periods=10, freq='W-SAT'))\n",
    "date_series"
   ]
  },
  {
   "cell_type": "code",
   "execution_count": 12,
   "id": "27408d73",
   "metadata": {},
   "outputs": [
    {
     "name": "stdout",
     "output_type": "stream",
     "text": [
      "2000-01-01     1.0\n",
      "2000-01-03    10.0\n",
      "2000-01-06     3.0\n",
      "2000-01-08     NaN\n",
      "dtype: float64\n"
     ]
    },
    {
     "data": {
      "text/plain": [
       "2000-01-01     1.0\n",
       "2000-01-02    10.0\n",
       "2000-01-03    10.0\n",
       "2000-01-04     3.0\n",
       "2000-01-05     3.0\n",
       "2000-01-06     3.0\n",
       "2000-01-07     3.0\n",
       "2000-01-08     3.0\n",
       "Freq: D, dtype: float64"
      ]
     },
     "execution_count": 12,
     "metadata": {},
     "output_type": "execute_result"
    }
   ],
   "source": [
    "import pandas as pd\n",
    "import numpy as np\n",
    "\n",
    "date_series = pd.Series([1,10,3, np.nan], index=pd.to_datetime(['2000-01-01', '2000-01-03', '2000-01-06', '2000-01-08']))\n",
    "print(date_series)\n",
    "\n",
    "date_series.resample('D').ffill()  \n",
    "date_series.resample('D').bfill()  \n",
    "date_series.resample('D').bfill().ffill()  "
   ]
  },
  {
   "cell_type": "code",
   "execution_count": 13,
   "id": "255f6fb2",
   "metadata": {
    "scrolled": true
   },
   "outputs": [
    {
     "name": "stdout",
     "output_type": "stream",
     "text": [
      "    fruit     taste  price\n",
      "0   apple  0.543405      9\n",
      "1  banana  0.278369      5\n",
      "2  orange  0.424518     12\n",
      "3   apple  0.844776     13\n",
      "4  banana  0.004719     11\n",
      "5  orange  0.121569      1\n",
      "6   apple  0.670749     12\n",
      "7  banana  0.825853     10\n",
      "8  orange  0.136707     14\n",
      "\n",
      " Second largest value of 'taste' for 'banana' \n"
     ]
    },
    {
     "data": {
      "text/plain": [
       "0.27836938509379616"
      ]
     },
     "execution_count": 13,
     "metadata": {},
     "output_type": "execute_result"
    }
   ],
   "source": [
    "import numpy as np\n",
    "import pandas as pd\n",
    "\n",
    "np.random.seed(100)\n",
    "\n",
    "df = pd.DataFrame({'fruit': ['apple', 'banana', 'orange'] * 3, 'taste': np.random.rand(9), 'price': np.random.randint(1, 15, 9)})\n",
    "\n",
    "print(df)\n",
    "grouped_data = df['taste'].groupby(df.fruit)\n",
    "print(\"\\n Second largest value of 'taste' for 'banana' \")\n",
    "grouped_data.get_group('banana').sort_values().iloc[-2]"
   ]
  },
  {
   "cell_type": "code",
   "execution_count": 14,
   "id": "c5e00f3f",
   "metadata": {},
   "outputs": [
    {
     "data": {
      "text/html": [
       "<div>\n",
       "<style scoped>\n",
       "    .dataframe tbody tr th:only-of-type {\n",
       "        vertical-align: middle;\n",
       "    }\n",
       "\n",
       "    .dataframe tbody tr th {\n",
       "        vertical-align: top;\n",
       "    }\n",
       "\n",
       "    .dataframe thead th {\n",
       "        text-align: right;\n",
       "    }\n",
       "</style>\n",
       "<table border=\"1\" class=\"dataframe\">\n",
       "  <thead>\n",
       "    <tr style=\"text-align: right;\">\n",
       "      <th></th>\n",
       "      <th>0</th>\n",
       "      <th>1</th>\n",
       "      <th>2</th>\n",
       "      <th>3</th>\n",
       "      <th>4</th>\n",
       "      <th>5</th>\n",
       "      <th>6</th>\n",
       "      <th>7</th>\n",
       "      <th>8</th>\n",
       "      <th>9</th>\n",
       "      <th>penultimate</th>\n",
       "    </tr>\n",
       "  </thead>\n",
       "  <tbody>\n",
       "    <tr>\n",
       "      <th>0</th>\n",
       "      <td>38</td>\n",
       "      <td>13</td>\n",
       "      <td>73</td>\n",
       "      <td>10</td>\n",
       "      <td>76</td>\n",
       "      <td>6</td>\n",
       "      <td>80</td>\n",
       "      <td>65</td>\n",
       "      <td>17</td>\n",
       "      <td>2</td>\n",
       "      <td>76</td>\n",
       "    </tr>\n",
       "    <tr>\n",
       "      <th>1</th>\n",
       "      <td>77</td>\n",
       "      <td>72</td>\n",
       "      <td>7</td>\n",
       "      <td>26</td>\n",
       "      <td>51</td>\n",
       "      <td>21</td>\n",
       "      <td>19</td>\n",
       "      <td>85</td>\n",
       "      <td>12</td>\n",
       "      <td>29</td>\n",
       "      <td>77</td>\n",
       "    </tr>\n",
       "    <tr>\n",
       "      <th>2</th>\n",
       "      <td>30</td>\n",
       "      <td>15</td>\n",
       "      <td>51</td>\n",
       "      <td>69</td>\n",
       "      <td>88</td>\n",
       "      <td>88</td>\n",
       "      <td>95</td>\n",
       "      <td>97</td>\n",
       "      <td>87</td>\n",
       "      <td>14</td>\n",
       "      <td>95</td>\n",
       "    </tr>\n",
       "    <tr>\n",
       "      <th>3</th>\n",
       "      <td>10</td>\n",
       "      <td>8</td>\n",
       "      <td>64</td>\n",
       "      <td>62</td>\n",
       "      <td>23</td>\n",
       "      <td>58</td>\n",
       "      <td>2</td>\n",
       "      <td>1</td>\n",
       "      <td>61</td>\n",
       "      <td>82</td>\n",
       "      <td>64</td>\n",
       "    </tr>\n",
       "    <tr>\n",
       "      <th>4</th>\n",
       "      <td>9</td>\n",
       "      <td>89</td>\n",
       "      <td>14</td>\n",
       "      <td>48</td>\n",
       "      <td>73</td>\n",
       "      <td>31</td>\n",
       "      <td>72</td>\n",
       "      <td>4</td>\n",
       "      <td>71</td>\n",
       "      <td>22</td>\n",
       "      <td>73</td>\n",
       "    </tr>\n",
       "    <tr>\n",
       "      <th>5</th>\n",
       "      <td>50</td>\n",
       "      <td>58</td>\n",
       "      <td>4</td>\n",
       "      <td>69</td>\n",
       "      <td>25</td>\n",
       "      <td>44</td>\n",
       "      <td>77</td>\n",
       "      <td>27</td>\n",
       "      <td>53</td>\n",
       "      <td>81</td>\n",
       "      <td>77</td>\n",
       "    </tr>\n",
       "    <tr>\n",
       "      <th>6</th>\n",
       "      <td>42</td>\n",
       "      <td>83</td>\n",
       "      <td>16</td>\n",
       "      <td>65</td>\n",
       "      <td>69</td>\n",
       "      <td>26</td>\n",
       "      <td>99</td>\n",
       "      <td>88</td>\n",
       "      <td>8</td>\n",
       "      <td>27</td>\n",
       "      <td>88</td>\n",
       "    </tr>\n",
       "    <tr>\n",
       "      <th>7</th>\n",
       "      <td>26</td>\n",
       "      <td>23</td>\n",
       "      <td>10</td>\n",
       "      <td>68</td>\n",
       "      <td>24</td>\n",
       "      <td>28</td>\n",
       "      <td>38</td>\n",
       "      <td>58</td>\n",
       "      <td>84</td>\n",
       "      <td>39</td>\n",
       "      <td>68</td>\n",
       "    </tr>\n",
       "  </tbody>\n",
       "</table>\n",
       "</div>"
      ],
      "text/plain": [
       "    0   1   2   3   4   5   6   7   8   9  penultimate\n",
       "0  38  13  73  10  76   6  80  65  17   2           76\n",
       "1  77  72   7  26  51  21  19  85  12  29           77\n",
       "2  30  15  51  69  88  88  95  97  87  14           95\n",
       "3  10   8  64  62  23  58   2   1  61  82           64\n",
       "4   9  89  14  48  73  31  72   4  71  22           73\n",
       "5  50  58   4  69  25  44  77  27  53  81           77\n",
       "6  42  83  16  65  69  26  99  88   8  27           88\n",
       "7  26  23  10  68  24  28  38  58  84  39           68"
      ]
     },
     "execution_count": 14,
     "metadata": {},
     "output_type": "execute_result"
    }
   ],
   "source": [
    "import numpy as np\n",
    "import pandas as pd\n",
    "\n",
    "np.random.seed(1)\n",
    "df = pd.DataFrame(np.random.randint(1,100,80).reshape(8, -1))\n",
    "df\n",
    "\n",
    "output = df.apply(lambda x: x.sort_values().unique()[-2], axis=1)\n",
    "df['penultimate'] = output\n",
    "df"
   ]
  },
  {
   "cell_type": "code",
   "execution_count": 15,
   "id": "78ce6eb5",
   "metadata": {
    "scrolled": false
   },
   "outputs": [
    {
     "name": "stdout",
     "output_type": "stream",
     "text": [
      "\n",
      " Q1) Normalize all columns of df by subtracting the column mean and divide by standard deviation \n",
      "       0     1     2     3     4     5     6     7     8     9\n",
      "0 -0.74 -0.66 -0.86 -1.22 -1.39 -1.33  1.95 -0.54  0.26  1.25\n",
      "1  1.06  0.45 -0.44 -0.52  0.81 -1.09  0.86  0.89  0.44 -1.54\n",
      "2 -0.96  1.00 -1.84  0.11  0.71  0.37 -0.94  1.29  0.85 -0.98\n",
      "3  1.09 -1.58  0.65  0.75  0.37  0.56  0.45 -0.71 -0.96 -0.51\n",
      "4 -0.77 -0.18  0.33  0.27  0.60  1.18 -0.56 -1.07 -1.17  0.91\n",
      "5 -0.77 -0.95  0.54  1.38 -1.49 -0.81 -0.60  0.89  0.94  0.25\n",
      "6 -0.30  1.18  1.35 -1.48  0.94  1.24 -0.67  0.50  1.00  0.94\n",
      "7  1.39  0.74  0.26  0.71 -0.55 -0.12 -0.50 -1.25 -1.35 -0.32\n",
      "\n",
      " Q2) Max 1 & Min 0 Table \n",
      "       0     1     2     3     4     5     6     7     8     9\n",
      "0  0.91  0.67  0.69  0.91  0.96  1.00  0.00  0.72  0.32  0.00\n",
      "1  0.14  0.27  0.56  0.67  0.06  0.90  0.38  0.15  0.24  1.00\n",
      "2  1.00  0.07  1.00  0.44  0.10  0.34  1.00  0.00  0.06  0.80\n",
      "3  0.13  1.00  0.22  0.22  0.24  0.27  0.52  0.79  0.84  0.63\n",
      "4  0.92  0.49  0.32  0.39  0.14  0.02  0.87  0.93  0.92  0.12\n",
      "5  0.92  0.77  0.25  0.00  1.00  0.80  0.88  0.15  0.03  0.36\n",
      "6  0.72  0.00  0.00  1.00  0.00  0.00  0.91  0.31  0.00  0.11\n",
      "7  0.00  0.16  0.34  0.23  0.61  0.53  0.85  1.00  1.00  0.56\n"
     ]
    }
   ],
   "source": [
    "import numpy as np\n",
    "import pandas as pd\n",
    "\n",
    "df = pd.DataFrame(np.random.randint(1,100, 80).reshape(8, -1))\n",
    "\n",
    "op1 = df.apply(lambda x: ((x - x.mean())/x.std()).round(2))\n",
    "print('\\n Q1) Normalize all columns of df by subtracting the column mean and divide by standard deviation \\n',op1)\n",
    "\n",
    "op2 = df.apply(lambda x: ((x.max() - x)/(x.max() - x.min())).round(2))\n",
    "print('\\n Q2) Max 1 & Min 0 Table \\n', op2) "
   ]
  },
  {
   "cell_type": "code",
   "execution_count": 16,
   "id": "e1b18070",
   "metadata": {},
   "outputs": [
    {
     "name": "stdout",
     "output_type": "stream",
     "text": [
      "[0.  0.2 0.4 0.6 0.8 1.  1.2 1.4 1.6 1.8 2.  2.2 2.4 2.6 2.8 3.  3.2 3.4\n",
      " 3.6 3.8 4.  4.2 4.4 4.6 4.8]\n"
     ]
    },
    {
     "data": {
      "image/png": "[encoded data removed]",
      "text/plain": [
       "<Figure size 432x288 with 1 Axes>"
      ]
     },
     "metadata": {
      "needs_background": "light"
     },
     "output_type": "display_data"
    }
   ],
   "source": [
    "import numpy as np\n",
    "import matplotlib.pyplot as plt\n",
    "\n",
    "t = np.arange(0., 5., 0.2)\n",
    "print(t)\n",
    "plt.plot(t, t, 'g--', t, t**2, 'bs', t, t**3, 'r^')\n",
    "plt.show()"
   ]
  },
  {
   "cell_type": "code",
   "execution_count": 17,
   "id": "db982c7a",
   "metadata": {},
   "outputs": [
    {
     "data": {
      "image/png": "[encoded data removed]",
      "text/plain": [
       "<Figure size 432x288 with 1 Axes>"
      ]
     },
     "metadata": {
      "needs_background": "light"
     },
     "output_type": "display_data"
    }
   ],
   "source": [
    "import numpy as np\n",
    "import matplotlib.pyplot as mplot\n",
    "\n",
    "x1 = [10,20,30]\n",
    "y1 = [20,40,10]\n",
    "\n",
    "x2 = [10,20,30]\n",
    "y2 = [40,10,30]\n",
    "\n",
    "mplot.xlabel('x - axis')\n",
    "mplot.ylabel('y - axis')\n",
    "\n",
    "mplot.plot(x1,y1, color='blue', linewidth = 3,  label = 'line1-dotted',linestyle='dotted')\n",
    "mplot.plot(x2,y2, color='red', linewidth = 5,  label = 'line2-dashed', linestyle='dashed')\n",
    "\n",
    "mplot.title(\"Plot with two or more lines with different styles\")\n",
    "plt.legend()\n",
    "plt.show()"
   ]
  },
  {
   "cell_type": "code",
   "execution_count": 18,
   "id": "5000ea8e",
   "metadata": {},
   "outputs": [
    {
     "data": {
      "image/png": "[encoded data removed]",
      "text/plain": [
       "<Figure size 432x288 with 1 Axes>"
      ]
     },
     "metadata": {
      "needs_background": "light"
     },
     "output_type": "display_data"
    }
   ],
   "source": [
    "import matplotlib.pyplot as mplot \n",
    "import numpy as np \n",
    "\n",
    "x = np.random.randn(50) \n",
    "y = np.random.randn(50)\n",
    "mplot.scatter(x, y, s=70)\n",
    "mplot.xlabel(\"X\")\n",
    "mplot.ylabel(\"Y\")\n",
    "mplot.show()\n"
   ]
  },
  {
   "cell_type": "code",
   "execution_count": 19,
   "id": "ac1bc640",
   "metadata": {},
   "outputs": [
    {
     "name": "stdout",
     "output_type": "stream",
     "text": [
      "\n",
      " Given Pandas Dataframe \n",
      "\n",
      "    a  b  c  d  e\n",
      "2   4  8  5  7  6\n",
      "4   2  3  4  2  6\n",
      "6   4  7  4  7  8\n",
      "8   2  6  4  8  6\n",
      "10  2  4  3  3  2\n",
      "\n",
      " Bar Chart for Given Dataframe\n"
     ]
    },
    {
     "data": {
      "image/png": "[encoded data removed]",
      "text/plain": [
       "<Figure size 432x288 with 1 Axes>"
      ]
     },
     "metadata": {
      "needs_background": "light"
     },
     "output_type": "display_data"
    }
   ],
   "source": [
    "from pandas import DataFrame\n",
    "import matplotlib.pyplot as mplot\n",
    "import numpy as np\n",
    "\n",
    "input=np.array([[4,8,5,7,6],[2,3,4,2,6],[4,7,4,7,8],[2,6,4,8,6],[2,4,3,3,2]])\n",
    "df=DataFrame(input, columns=['a','b','c','d','e'], index=[2,4,6,8,10])\n",
    "print(\"\\n Given Pandas Dataframe \\n\")\n",
    "print(df)\n",
    "\n",
    "print(\"\\n Bar Chart for Given Dataframe\")\n",
    "df.plot(kind='bar')\n",
    "\n",
    "\n",
    "mplot.show()"
   ]
  },
  {
   "cell_type": "code",
   "execution_count": 20,
   "id": "71bfc3d9",
   "metadata": {},
   "outputs": [
    {
     "data": {
      "image/png": "[encoded data removed]",
      "text/plain": [
       "<Figure size 432x288 with 1 Axes>"
      ]
     },
     "metadata": {
      "needs_background": "light"
     },
     "output_type": "display_data"
    }
   ],
   "source": [
    "from pandas import DataFrame\n",
    "import matplotlib.pyplot as mplot\n",
    "import numpy as np\n",
    "\n",
    "mplot.title('title name')\n",
    "mplot.xlabel('Month')\n",
    "mplot.ylabel('Precipitation (Inches)')\n",
    "\n",
    "months = ['Jan', 'Feb', 'Mar', 'Apr', 'May', 'June', 'July', 'Aug', 'Sept', 'Oct', 'Nov', 'Dec']\n",
    "avg_precipitation = [ 0.70, 0.75, 1.85, 2.93, 3.05, 2.02, 1.93, 1.62, 1.84, 1.31, 1.39, 0.84] \n",
    "plt.title('Average Monthly Precipitation')\n",
    "mplot.bar(months,avg_precipitation, color='g')\n",
    "plt.show()"
   ]
  }
 ],
 "metadata": {
  "kernelspec": {
   "display_name": "Python 3",
   "language": "python",
   "name": "python3"
  },
  "language_info": {
   "codemirror_mode": {
    "name": "ipython",
    "version": 3
   },
   "file_extension": ".py",
   "mimetype": "text/x-python",
   "name": "python",
   "nbconvert_exporter": "python",
   "pygments_lexer": "ipython3",
   "version": "3.8.2"
  }
 },
 "nbformat": 4,
 "nbformat_minor": 5
}
