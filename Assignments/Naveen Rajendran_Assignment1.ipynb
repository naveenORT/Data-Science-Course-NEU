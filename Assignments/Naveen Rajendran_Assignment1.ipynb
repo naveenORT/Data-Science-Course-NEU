{
 "cells": [
  {
   "cell_type": "markdown",
   "id": "e8dcc2eb",
   "metadata": {},
   "source": [
    "Name : Naveen Rajendran\n",
    "\n",
    "NUID : 001304569\n",
    "\n",
    "Assignment 1"
   ]
  },
  {
   "cell_type": "code",
   "execution_count": 1,
   "id": "7ac35899",
   "metadata": {},
   "outputs": [
    {
     "name": "stdout",
     "output_type": "stream",
     "text": [
      "Python Array: [1, 2, 3]\n",
      "Numpy Array: [1 2 3]\n"
     ]
    }
   ],
   "source": [
    "import numpy\n",
    "x = [1,2,3]\n",
    "numpy_array = numpy.array(x)\n",
    "print(\"Python Array:\",x)\n",
    "print(\"Numpy Array:\",numpy_array)"
   ]
  },
  {
   "cell_type": "code",
   "execution_count": 2,
   "id": "18ad539c",
   "metadata": {
    "scrolled": true
   },
   "outputs": [
    {
     "name": "stdout",
     "output_type": "stream",
     "text": [
      "[6, 6]\n",
      "[6, 6]\n",
      "[6, 6]\n"
     ]
    }
   ],
   "source": [
    "rows, cols = (3, 2)\n",
    "# method 2a\n",
    "arr = [[6]*cols]*rows\n",
    " \n",
    "for row in arr:\n",
    "    print(row)"
   ]
  },
  {
   "cell_type": "code",
   "execution_count": 3,
   "id": "46801bba",
   "metadata": {},
   "outputs": [
    {
     "name": "stdout",
     "output_type": "stream",
     "text": [
      "Array Elements: [2, 4, 6, 8, 10, 12, 14, 16, 18, 20, 22, 24, 26, 28, 30, 32, 34, 36, 38, 40, 42, 44, 46, 48, 50, 52, 54, 56, 58, 60, 62, 64, 66, 68, 70, 72, 74, 76, 78, 80, 82, 84, 86, 88, 90, 92, 94, 96, 98, 100]\n",
      "Array Mean Value: 51.0\n"
     ]
    }
   ],
   "source": [
    "import numpy\n",
    "arr = []\n",
    "for i in range(2,102,2):\n",
    "    arr.append(i)\n",
    "\n",
    "print (\"Array Elements:\",arr)\n",
    "\n",
    "print (\"Array Mean Value:\",numpy.mean(arr))"
   ]
  },
  {
   "cell_type": "code",
   "execution_count": 4,
   "id": "fa6ba303",
   "metadata": {},
   "outputs": [
    {
     "name": "stdout",
     "output_type": "stream",
     "text": [
      "Maximum Value: 0.9236517577350074\n",
      "Minimum Value: 0.0005832885983895197\n"
     ]
    }
   ],
   "source": [
    "import numpy as np\n",
    "x = np.random.random((3, 3, 3))\n",
    "print(\"Maximum Value:\", np.amax(x))\n",
    "print(\"Minimum Value:\", np.amin(x))\n"
   ]
  },
  {
   "cell_type": "code",
   "execution_count": 5,
   "id": "2da3416d",
   "metadata": {},
   "outputs": [
    {
     "name": "stdout",
     "output_type": "stream",
     "text": [
      "[[10 11 12 13]\n",
      " [14 15 16 17]\n",
      " [18 19 20 21]]\n"
     ]
    }
   ],
   "source": [
    "import numpy as np\n",
    "arr = np.arange(10,22).reshape((3, 4))\n",
    "print(arr)\n"
   ]
  },
  {
   "cell_type": "code",
   "execution_count": 6,
   "id": "ff1fa447",
   "metadata": {},
   "outputs": [
    {
     "name": "stdout",
     "output_type": "stream",
     "text": [
      "[ 5  8 11 14 17 20 23 26 29 32]\n"
     ]
    }
   ],
   "source": [
    "import numpy as np\n",
    "arr = np.arange(10)\n",
    "arr = np.arange(5,len(arr)*3+3, 3)\n",
    "print(arr)"
   ]
  },
  {
   "cell_type": "code",
   "execution_count": 7,
   "id": "20dcb55c",
   "metadata": {},
   "outputs": [
    {
     "name": "stdout",
     "output_type": "stream",
     "text": [
      "Size of 10 x 10 Array: 800\n"
     ]
    }
   ],
   "source": [
    "import numpy as np\n",
    "x = np.random.random((10,10))\n",
    "print(\"Size of 10 x 10 Array:\",x.size * x.itemsize)"
   ]
  },
  {
   "cell_type": "code",
   "execution_count": 8,
   "id": "ce45f783",
   "metadata": {
    "scrolled": false
   },
   "outputs": [
    {
     "name": "stdout",
     "output_type": "stream",
     "text": [
      "[0 0 0 0 1 0 0 0 0 0]\n"
     ]
    }
   ],
   "source": [
    "import numpy as np\n",
    "num =np.array([int(x==4) for x in range(10)])\n",
    "print(num)"
   ]
  },
  {
   "cell_type": "code",
   "execution_count": 9,
   "id": "dea71a42",
   "metadata": {},
   "outputs": [
    {
     "name": "stdout",
     "output_type": "stream",
     "text": [
      "Original Arr: \n",
      " [10 11 12 13 14 15 16 17 18 19 20 21 22 23 24 25 26 27 28 29 30 31 32 33\n",
      " 34 35 36 37 38 39 40 41 42 43 44 45 46 47 48 49]\n",
      "Reversed Arr: \n",
      " [49 48 47 46 45 44 43 42 41 40 39 38 37 36 35 34 33 32 31 30 29 28 27 26\n",
      " 25 24 23 22 21 20 19 18 17 16 15 14 13 12 11 10]\n"
     ]
    }
   ],
   "source": [
    "import numpy as np\n",
    "arr = np.arange(10,50, 1)\n",
    "print(\"Original Arr: \\n\",arr)\n",
    "arr = np.flipud(arr)\n",
    "print(\"Reversed Arr: \\n\",arr)"
   ]
  },
  {
   "cell_type": "code",
   "execution_count": 10,
   "id": "348aeab0",
   "metadata": {
    "scrolled": false
   },
   "outputs": [
    {
     "name": "stdout",
     "output_type": "stream",
     "text": [
      "[[0.5488135  0.71518937]\n",
      " [0.60276338 0.54488318]\n",
      " [0.4236548  0.64589411]]\n"
     ]
    }
   ],
   "source": [
    "import numpy as np\n",
    "x = np.random.seed(0)\n",
    "x = np.random.random((3,2))\n",
    "print(x)"
   ]
  },
  {
   "cell_type": "code",
   "execution_count": 11,
   "id": "5c316816",
   "metadata": {
    "scrolled": true
   },
   "outputs": [
    {
     "name": "stdout",
     "output_type": "stream",
     "text": [
      "[[1. 1. 1. 1. 1. 1. 1. 1. 1. 1.]\n",
      " [1. 0. 0. 0. 0. 0. 0. 0. 0. 1.]\n",
      " [1. 0. 0. 0. 0. 0. 0. 0. 0. 1.]\n",
      " [1. 0. 0. 0. 0. 0. 0. 0. 0. 1.]\n",
      " [1. 0. 0. 0. 0. 0. 0. 0. 0. 1.]\n",
      " [1. 0. 0. 0. 0. 0. 0. 0. 0. 1.]\n",
      " [1. 0. 0. 0. 0. 0. 0. 0. 0. 1.]\n",
      " [1. 0. 0. 0. 0. 0. 0. 0. 0. 1.]\n",
      " [1. 0. 0. 0. 0. 0. 0. 0. 0. 1.]\n",
      " [1. 1. 1. 1. 1. 1. 1. 1. 1. 1.]]\n"
     ]
    }
   ],
   "source": [
    "import numpy as np\n",
    "x = np.ones((10,10))\n",
    "x[1:-1,1:-1] = 0\n",
    "print(x)"
   ]
  },
  {
   "cell_type": "code",
   "execution_count": 12,
   "id": "04d304b9",
   "metadata": {
    "scrolled": false
   },
   "outputs": [
    {
     "name": "stdout",
     "output_type": "stream",
     "text": [
      "[[0 0 0 0 0 0 0]\n",
      " [0 1 1 1 1 1 0]\n",
      " [0 1 1 1 1 1 0]\n",
      " [0 1 1 1 1 1 0]\n",
      " [0 1 1 1 1 1 0]\n",
      " [0 1 1 1 1 1 0]\n",
      " [0 0 0 0 0 0 0]]\n"
     ]
    }
   ],
   "source": [
    "import numpy as np\n",
    "x = np.array([[1, 1, 1, 1, 1],\n",
    " [1, 1, 1, 1, 1],\n",
    " [1, 1, 1, 1, 1],\n",
    " [1, 1, 1, 1, 1],\n",
    " [1, 1, 1, 1, 1]])\n",
    "x = np.pad(x, pad_width=1, mode='constant', constant_values=0)\n",
    "print(x)\n"
   ]
  },
  {
   "cell_type": "code",
   "execution_count": 13,
   "id": "12177c9c",
   "metadata": {},
   "outputs": [
    {
     "name": "stdout",
     "output_type": "stream",
     "text": [
      "The diagonal: \n",
      "[[1 0 0 0 0]\n",
      " [0 2 0 0 0]\n",
      " [0 0 3 0 0]\n",
      " [0 0 0 4 0]\n",
      " [0 0 0 0 5]]\n",
      "Diagonal 1 place shift lower:\n",
      "[[0 0 0 0 0 0]\n",
      " [1 0 0 0 0 0]\n",
      " [0 2 0 0 0 0]\n",
      " [0 0 3 0 0 0]\n",
      " [0 0 0 4 0 0]\n",
      " [0 0 0 0 5 0]]\n"
     ]
    }
   ],
   "source": [
    "import numpy as np\n",
    "\n",
    "x = np.array([[1, 2, 3, 4, 5]])\n",
    "d = np.diag(x[0])\n",
    "print('The diagonal: ')\n",
    "print(d)\n",
    "print('Diagonal 1 place shift lower:')\n",
    "dl = np.diag(x[0],k=-1)\n",
    "print(dl)"
   ]
  },
  {
   "cell_type": "code",
   "execution_count": 14,
   "id": "b6920718",
   "metadata": {
    "scrolled": true
   },
   "outputs": [
    {
     "name": "stdout",
     "output_type": "stream",
     "text": [
      "[[0. 1. 2. 3. 4.]\n",
      " [0. 1. 2. 3. 4.]\n",
      " [0. 1. 2. 3. 4.]\n",
      " [0. 1. 2. 3. 4.]\n",
      " [0. 1. 2. 3. 4.]]\n"
     ]
    }
   ],
   "source": [
    "import numpy as np\n",
    "x = np.zeros((5,5))\n",
    "x += np.arange(5)\n",
    "print(x)\n"
   ]
  },
  {
   "cell_type": "code",
   "execution_count": 15,
   "id": "8fd5ce6c",
   "metadata": {},
   "outputs": [
    {
     "name": "stdout",
     "output_type": "stream",
     "text": [
      "[0.07103606 0.0871293  0.38344152 0.43758721 0.52889492 0.56804456\n",
      " 0.79172504 0.891773   0.92559664 0.96366276]\n"
     ]
    }
   ],
   "source": [
    "import numpy as np\n",
    "x = np.random.random((10))\n",
    "print(np.sort(x))"
   ]
  },
  {
   "cell_type": "code",
   "execution_count": 16,
   "id": "fe8b4e33",
   "metadata": {},
   "outputs": [
    {
     "name": "stdout",
     "output_type": "stream",
     "text": [
      "5th occurence at index 8\n"
     ]
    }
   ],
   "source": [
    "x = [1, 2, 1, 1, 3, 4, 3, 1, 1, 2, 1, 1, 2]\n",
    "count = 0\n",
    "for i in range(len(x)-1):\n",
    "    if ( x[i] == 1):\n",
    "        count = count + 1\n",
    "        if (count == 5):\n",
    "            break\n",
    "print(\"5th occurence at index\",i)\n",
    "\n"
   ]
  },
  {
   "cell_type": "code",
   "execution_count": 17,
   "id": "df42de2f",
   "metadata": {},
   "outputs": [
    {
     "name": "stdout",
     "output_type": "stream",
     "text": [
      "[array([1, 2, 3, 4]), array([5, 6, 7]), array([ 8,  9, 10])]\n"
     ]
    }
   ],
   "source": [
    "import numpy as np\n",
    "arr = np.arange(1,11)\n",
    "arr = np.array_split(arr,3)\n",
    "\n",
    "print(arr)"
   ]
  },
  {
   "cell_type": "code",
   "execution_count": 18,
   "id": "c720d9f7",
   "metadata": {},
   "outputs": [
    {
     "name": "stdout",
     "output_type": "stream",
     "text": [
      "[array([[ 0,  1],\n",
      "       [ 4,  5],\n",
      "       [ 8,  9],\n",
      "       [12, 13]]), array([[ 2,  3],\n",
      "       [ 6,  7],\n",
      "       [10, 11],\n",
      "       [14, 15]])]\n"
     ]
    }
   ],
   "source": [
    "import numpy as np\n",
    "arr = np.arange(0,16).reshape((4, 4))\n",
    "arr = np.hsplit(arr,2)\n",
    "print(arr)"
   ]
  },
  {
   "cell_type": "code",
   "execution_count": 19,
   "id": "8606566f",
   "metadata": {},
   "outputs": [
    {
     "name": "stdout",
     "output_type": "stream",
     "text": [
      "[[10 15]\n",
      " [25 30]]\n",
      "\n",
      " [[20]]\n"
     ]
    }
   ],
   "source": [
    "import numpy as np\n",
    "arr = np.array([[5,10,15],[20,25,30],[35,40,45]])\n",
    "\n",
    "print(arr[0:2,1:3])\n",
    "\n",
    "print(\"\\n\",arr[1:2,0:1])\n"
   ]
  },
  {
   "cell_type": "code",
   "execution_count": 20,
   "id": "c7815824",
   "metadata": {},
   "outputs": [
    {
     "name": "stdout",
     "output_type": "stream",
     "text": [
      "[[ 1  2  3  7  8  9]\n",
      " [ 4  5  6 10 11 12]]\n"
     ]
    }
   ],
   "source": [
    "import numpy as np\n",
    "x = np.array([[ 1,2,3],[ 4,5,6]])\n",
    "y = np.array([[ 7,8,9],[10,11,12]])\n",
    "\n",
    "arr = np.concatenate((x,y), axis=1)\n",
    "\n",
    "print(arr)"
   ]
  },
  {
   "cell_type": "code",
   "execution_count": 21,
   "id": "c38a3b71",
   "metadata": {},
   "outputs": [
    {
     "name": "stdout",
     "output_type": "stream",
     "text": [
      "[[10 11 12 13]\n",
      " [14 15 16 17]\n",
      " [18 19 20 21]]\n"
     ]
    }
   ],
   "source": [
    "import numpy as np\n",
    "arr = np.arange(10,22).reshape((3,4))\n",
    "print(arr)"
   ]
  },
  {
   "cell_type": "code",
   "execution_count": 22,
   "id": "aa32dc86",
   "metadata": {},
   "outputs": [
    {
     "name": "stdout",
     "output_type": "stream",
     "text": [
      "Generated Array:\n",
      " [[4 1 4]\n",
      " [6 1 3]\n",
      " [4 9 2]\n",
      " [4 4 4]\n",
      " [8 1 2]]\n",
      "Min/Max:\n",
      " [0.25 0.17 0.22 1.   0.12]\n"
     ]
    }
   ],
   "source": [
    "import numpy as np\n",
    "arr = np.random.randint(low=1,high=10,size=(5,3))\n",
    "print(\"Generated Array:\\n\",arr)\n",
    "print(\"Min/Max:\\n\",np.round(np.min(arr, axis=1)/np.max(arr, axis=1),2))\n"
   ]
  },
  {
   "cell_type": "code",
   "execution_count": 23,
   "id": "b9a77f92",
   "metadata": {},
   "outputs": [
    {
     "name": "stdout",
     "output_type": "stream",
     "text": [
      "Randomized Matrix: \n",
      " [[1 2 3]\n",
      " [4 5 6]]\n",
      "After Normalization \n",
      "\n",
      "[[0.13453537 1.         0.54333067 0.42756353 0.2654405 ]\n",
      " [0.81592065 0.47237325 0.59364569 0.         0.64678605]\n",
      " [0.64080279 0.64602839 0.99900544 0.71610914 0.36799415]\n",
      " [0.45172436 0.73318577 0.04475279 0.69985045 0.70403151]\n",
      " [0.20693064 0.11895343 0.32038583 0.37253348 0.59554964]]\n"
     ]
    }
   ],
   "source": [
    "import numpy as np\n",
    "arr = np.random.random((5,5))\n",
    "print (\"Randomized Matrix: \\n\",x)\n",
    "arr_max,arr_min = arr.max(), arr.min()\n",
    "arr = (arr - arr_min)/(arr_max - arr_min)\n",
    "print(\"After Normalization \\n\")\n",
    "print(arr)"
   ]
  },
  {
   "cell_type": "code",
   "execution_count": 24,
   "id": "9081d437",
   "metadata": {},
   "outputs": [
    {
     "name": "stdout",
     "output_type": "stream",
     "text": [
      "[0 1 2 3 4 5 6 7 8 9]\n"
     ]
    }
   ],
   "source": [
    "import numpy as np\n",
    "arr1 = np.arange(3)\n",
    "arr2 = np.arange(3,7)\n",
    "arr3 = np.arange(7,10)\n",
    "\n",
    "arr123=np.concatenate((arr1, arr2, arr3), axis=None)\n",
    "\n",
    "print(arr123)"
   ]
  },
  {
   "cell_type": "code",
   "execution_count": 25,
   "id": "c4ee90f8",
   "metadata": {},
   "outputs": [
    {
     "name": "stdout",
     "output_type": "stream",
     "text": [
      "Original Array \n",
      " [[44 47 64 67 67  9 83 21 36 87 70 88 88 12 58 65 39 87 46 88]]\n",
      "Resultant Array With Range of 15 to 55 \n",
      " [44 47 21 36 39 46]\n"
     ]
    }
   ],
   "source": [
    "import numpy as np\n",
    "arr = np.random.seed(0)\n",
    "arr = np.random.randint(low=0,high=100,size=(1,20))\n",
    "print(\"Original Array \\n\",arr)\n",
    "aa = arr [(arr >= 15) * (arr <= 55)]\n",
    "print(\"Resultant Array With Range of 15 to 55 \\n\", aa)"
   ]
  },
  {
   "cell_type": "code",
   "execution_count": 26,
   "id": "f16c2970",
   "metadata": {},
   "outputs": [
    {
     "name": "stdout",
     "output_type": "stream",
     "text": [
      "(array([1, 3, 5, 7], dtype=int64),)\n"
     ]
    }
   ],
   "source": [
    "import numpy as np\n",
    "\n",
    "a = np.array([1,2,3,2,3,4,3,4,5,6])\n",
    "b = np.array([7,2,10,2,7,4,9,4,9,8])\n",
    "\n",
    "result = np.where(a == b)\n",
    "\n",
    "print(result)\n"
   ]
  },
  {
   "cell_type": "code",
   "execution_count": 27,
   "id": "59cfd929",
   "metadata": {},
   "outputs": [
    {
     "name": "stdout",
     "output_type": "stream",
     "text": [
      "Original Array \n",
      " [ 0  1  2  3  4  5  6  7  8  9 10 11 12 13 14 15 16 17 18 19 20]\n",
      "Modified Array with odd values = -1 \n",
      " [ 0 -1  2 -1  4 -1  6 -1  8 -1 10 -1 12 -1 14 -1 16 -1 18 -1 20]\n"
     ]
    }
   ],
   "source": [
    "import numpy as np\n",
    "arr = np.arange(0,21)\n",
    "print(\"Original Array \\n\",arr)\n",
    "odd_val = (arr%2 == 1) \n",
    "arr[odd_val] = -1 \n",
    "print(\"Modified Array with odd values = -1 \\n\",arr)"
   ]
  },
  {
   "cell_type": "code",
   "execution_count": 28,
   "id": "c7d93bfe",
   "metadata": {},
   "outputs": [
    {
     "name": "stdout",
     "output_type": "stream",
     "text": [
      "797 ns ± 552 ns per loop (mean ± std. dev. of 7 runs, 10 loops each)\n"
     ]
    }
   ],
   "source": [
    "import numpy as np\n",
    "\n",
    "a = np.array([1,2,3,2,3,4,3,4,5,6])\n",
    "b = np.array([7,2,10,2,7,4,9,4,9,8])\n",
    "%timeit -n 10 np.add(a,b)"
   ]
  },
  {
   "cell_type": "code",
   "execution_count": 29,
   "id": "38a43333",
   "metadata": {},
   "outputs": [
    {
     "name": "stdout",
     "output_type": "stream",
     "text": [
      "\n",
      " Inserting three values inside zeros array with np.put \n",
      " [[11. 22. 33.  0.  0.  0.  0.  0.  0.  0.]\n",
      " [ 0.  0.  0.  0.  0.  0.  0.  0.  0.  0.]\n",
      " [ 0.  0.  0.  0.  0.  0.  0.  0.  0.  0.]\n",
      " [ 0.  0.  0.  0.  0.  0.  0.  0.  0.  0.]\n",
      " [ 0.  0.  0.  0.  0.  0.  0.  0.  0.  0.]\n",
      " [ 0.  0.  0.  0.  0.  0.  0.  0.  0.  0.]\n",
      " [ 0.  0.  0.  0.  0.  0.  0.  0.  0.  0.]\n",
      " [ 0.  0.  0.  0.  0.  0.  0.  0.  0.  0.]\n",
      " [ 0.  0.  0.  0.  0.  0.  0.  0.  0.  0.]\n",
      " [ 0.  0.  0.  0.  0.  0.  0.  0.  0.  0.]]\n"
     ]
    }
   ],
   "source": [
    "import numpy as np\n",
    "arr = np.zeros((10,10))\n",
    "np.put(arr,[0,1,2],[11,22,33])\n",
    "print(\"\\n Inserting three values inside zeros array with np.put \\n\",arr)"
   ]
  },
  {
   "cell_type": "code",
   "execution_count": 30,
   "id": "888207da",
   "metadata": {
    "scrolled": false
   },
   "outputs": [
    {
     "name": "stdout",
     "output_type": "stream",
     "text": [
      "\n",
      " Generated 5 x 10 array: \n",
      " [[0.3927848  0.83607876 0.33739616 0.64817187 0.36824154 0.95715516\n",
      "  0.14035078 0.87008726 0.47360805 0.80091075]\n",
      " [0.52047748 0.67887953 0.72063265 0.58201979 0.53737323 0.75861562\n",
      "  0.10590761 0.47360042 0.18633234 0.73691818]\n",
      " [0.21655035 0.13521817 0.32414101 0.14967487 0.22232139 0.38648898\n",
      "  0.90259848 0.44994999 0.61306346 0.90234858]\n",
      " [0.09928035 0.96980907 0.65314004 0.17090959 0.35815217 0.75068614\n",
      "  0.60783067 0.32504723 0.03842543 0.63427406]\n",
      " [0.95894927 0.65279032 0.63505887 0.99529957 0.58185033 0.41436859\n",
      "  0.4746975  0.6235101  0.33800761 0.67475232]]\n",
      "\n",
      " Mean Subtracted Array: \n",
      " [[-1.89693717e-01  2.53600251e-01 -2.45082352e-01  6.56933594e-02\n",
      "  -2.14236973e-01  3.74676646e-01 -4.42127732e-01  2.87608746e-01\n",
      "  -1.08870467e-01  2.18432239e-01]\n",
      " [-9.59820617e-03  1.48803844e-01  1.90556969e-01  5.19441064e-02\n",
      "   7.29754373e-03  2.28539939e-01 -4.24168079e-01 -5.64752664e-02\n",
      "  -3.43743342e-01  2.06842491e-01]\n",
      " [-2.13685173e-01 -2.95017354e-01 -1.06094520e-01 -2.80560661e-01\n",
      "  -2.07914140e-01 -4.37465467e-02  4.72362948e-01  1.97144620e-02\n",
      "   1.82827930e-01  4.72113055e-01]\n",
      " [-3.61475123e-01  5.09053595e-01  1.92384563e-01 -2.89845888e-01\n",
      "  -1.02603306e-01  2.89930668e-01  1.47075196e-01 -1.35708244e-01\n",
      "  -4.22330046e-01  1.73518585e-01]\n",
      " [ 3.24020820e-01  1.78618685e-02  1.30425094e-04  3.60371119e-01\n",
      "  -5.30781191e-02 -2.20559860e-01 -1.60230946e-01 -1.14183474e-02\n",
      "  -2.96920834e-01  3.98238737e-02]]\n"
     ]
    }
   ],
   "source": [
    "import numpy as np\n",
    "arr = np.random.random((5,10))\n",
    "print(\"\\n Generated 5 x 10 array: \\n\", arr)\n",
    "arr = arr - arr.mean(axis=1, keepdims=True)\n",
    "print(\"\\n Mean Subtracted Array: \\n\",arr)"
   ]
  },
  {
   "cell_type": "code",
   "execution_count": 31,
   "id": "aa2c64df",
   "metadata": {},
   "outputs": [
    {
     "name": "stdout",
     "output_type": "stream",
     "text": [
      "To get all elements except first [6, 9, 25, 10, 8]\n",
      "To get all elements except last [3, 6, 9, 25, 10]\n",
      "Get every element of the array [3, 6, 9, 25, 10, 8]\n",
      "Reverse Array [8, 10, 25, 9, 6, 3]\n"
     ]
    }
   ],
   "source": [
    "arr = [3,6,9,25,10,8]\n",
    "print(\"To get all elements except first\", arr[1:])\n",
    "print(\"To get all elements except last\", arr[:-1])\n",
    "print(\"Get every element of the array\",arr[:len(arr)])\n",
    "print(\"Reverse Array\",list(reversed(arr)))\n"
   ]
  },
  {
   "cell_type": "code",
   "execution_count": 32,
   "id": "377a948c",
   "metadata": {},
   "outputs": [
    {
     "name": "stdout",
     "output_type": "stream",
     "text": [
      "\n",
      " Randomized Array \n",
      " [[ 0  1  2  3]\n",
      " [ 4  5  6  7]\n",
      " [ 8  9 10 11]\n",
      " [12 13 14 15]\n",
      " [16 17 18 19]\n",
      " [20 21 22 23]\n",
      " [24 25 26 27]\n",
      " [28 29 30 31]]\n",
      "\n",
      " 3rd element set to zero \n",
      " [[ 0  1  2  0]\n",
      " [ 4  5  6  7]\n",
      " [ 8  9 10 11]\n",
      " [12 13 14 15]\n",
      " [16 17 18 19]\n",
      " [20 21 22 23]\n",
      " [24 25 26 27]\n",
      " [28 29 30 31]]\n",
      "\n",
      " 2nd column \n",
      " [4 5 6 7]\n",
      "\n",
      " 3 x 3 Region \n",
      " [[ 0  1  2]\n",
      " [ 4  5  6]\n",
      " [ 8  9 10]]\n"
     ]
    }
   ],
   "source": [
    "import numpy as np\n",
    "arr = np.arange(0,32).reshape((8,4))\n",
    "print(\"\\n Randomized Array \\n\",arr)\n",
    "np.put(arr,3,0)\n",
    "print(\"\\n 3rd element set to zero \\n\",arr)\n",
    "print(\"\\n 2nd column \\n\",arr[1,:])\n",
    "print(\"\\n 3 x 3 Region \\n\",arr[0:3,0:3])\n"
   ]
  },
  {
   "cell_type": "code",
   "execution_count": 33,
   "id": "2b65e2aa",
   "metadata": {},
   "outputs": [
    {
     "name": "stdout",
     "output_type": "stream",
     "text": [
      "[[0. 1. 0. 1.]\n",
      " [1. 0. 1. 0.]\n",
      " [0. 1. 0. 1.]\n",
      " [1. 0. 1. 0.]]\n"
     ]
    }
   ],
   "source": [
    "import numpy as np\n",
    "x = np.zeros((4, 4))\n",
    "x[::2, 1::2] = 1\n",
    "x[1::2, ::2] = 1\n",
    "print(x)"
   ]
  },
  {
   "cell_type": "code",
   "execution_count": 34,
   "id": "0a704205",
   "metadata": {},
   "outputs": [
    {
     "name": "stdout",
     "output_type": "stream",
     "text": [
      "\n",
      "Subtracted Array\n",
      "  [[2 2 2]\n",
      " [2 2 2]\n",
      " [2 2 2]]\n"
     ]
    }
   ],
   "source": [
    "import numpy as np\n",
    "a_2d = [[3,3,3],[4,4,4],[5,5,5]]\n",
    "x = np.array(a_2d)\n",
    "b_1d = [1,2,3]\n",
    "y = np.array(b_1d).reshape(3,1)\n",
    "result = np.subtract(x,y)\n",
    "print(\"\\nSubtracted Array\\n \",result)"
   ]
  },
  {
   "cell_type": "code",
   "execution_count": 35,
   "id": "4fe10b66",
   "metadata": {},
   "outputs": [
    {
     "name": "stdout",
     "output_type": "stream",
     "text": [
      "Multiplication via Numpy Broadcasting \n",
      " [[ 1  2  3  4  5  6]\n",
      " [ 2  4  6  8 10 12]\n",
      " [ 3  6  9 12 15 18]\n",
      " [ 4  8 12 16 20 24]\n",
      " [ 5 10 15 20 25 30]\n",
      " [ 6 12 18 24 30 36]]\n",
      "\n",
      " Multiplication Table By Nested Loop Method\n",
      "1\t2\t3\t4\t5\t6\t\n",
      "\n",
      "2\t4\t6\t8\t10\t12\t\n",
      "\n",
      "3\t6\t9\t12\t15\t18\t\n",
      "\n",
      "4\t8\t12\t16\t20\t24\t\n",
      "\n",
      "5\t10\t15\t20\t25\t30\t\n",
      "\n",
      "6\t12\t18\t24\t30\t36\t\n",
      "\n"
     ]
    }
   ],
   "source": [
    "from numpy import array\n",
    "a = array([[ 1, 2, 3, 4, 5, 6],\n",
    "            [1, 2, 3, 4, 5, 6],\n",
    "            [1, 2, 3, 4, 5, 6],\n",
    "            [1, 2, 3, 4, 5, 6],\n",
    "            [1, 2, 3, 4, 5, 6],\n",
    "            [1, 2, 3, 4, 5, 6]])\n",
    "b = array([1,2,3,4,5,6]).reshape((6,1))\n",
    "\n",
    "print(\"Multiplication via Numpy Broadcasting \\n\",a*b)\n",
    "\n",
    "print(\"\\n Multiplication Table By Nested Loop Method\")\n",
    "\n",
    "for j in range(1,7):\n",
    "    for k in range(1,7):\n",
    "        print(j*k , end =\"\\t\")\n",
    "    print(\"\\n\")"
   ]
  },
  {
   "cell_type": "code",
   "execution_count": null,
   "id": "abd87757",
   "metadata": {},
   "outputs": [],
   "source": []
  }
 ],
 "metadata": {
  "kernelspec": {
   "display_name": "Python 3",
   "language": "python",
   "name": "python3"
  },
  "language_info": {
   "codemirror_mode": {
    "name": "ipython",
    "version": 3
   },
   "file_extension": ".py",
   "mimetype": "text/x-python",
   "name": "python",
   "nbconvert_exporter": "python",
   "pygments_lexer": "ipython3",
   "version": "3.8.2"
  }
 },
 "nbformat": 4,
 "nbformat_minor": 5
}
